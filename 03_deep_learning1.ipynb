{
  "nbformat": 4,
  "nbformat_minor": 0,
  "metadata": {
    "colab": {
      "provenance": [],
      "authorship_tag": "ABX9TyMjsP0YvcSFt36kkqJuGe8c",
      "include_colab_link": true
    },
    "kernelspec": {
      "name": "python3",
      "display_name": "Python 3"
    },
    "language_info": {
      "name": "python"
    }
  },
  "cells": [
    {
      "cell_type": "markdown",
      "metadata": {
        "id": "view-in-github",
        "colab_type": "text"
      },
      "source": [
        "<a href=\"https://colab.research.google.com/github/kmrakovcic/FoP_ML_workshop23/blob/master/03_deep_learning1.ipynb\" target=\"_parent\"><img src=\"https://colab.research.google.com/assets/colab-badge.svg\" alt=\"Open In Colab\"/></a>"
      ]
    },
    {
      "cell_type": "markdown",
      "source": [
        "#Machine learning\n",
        "\n",
        "What is machine learning?"
      ],
      "metadata": {
        "id": "zPRbECykWJeB"
      }
    },
    {
      "cell_type": "markdown",
      "source": [
        "Machine learning is an umbrella term for all areas of study which give a computer the ability to learn to solve problems without being explicitly programmed. One of the modern definitions of machine learning developed by T. Mitchell is:\n",
        "\n",
        "\n",
        "> **A computer program is said to learn from experience E with respect to some class of tasks T and performance measure P, if its performance of tasks in T, as measured by P, improves with experience E.**\n",
        "\n",
        "In addition, a well-defined machine learning problem has identified three attributes: task T, performance measure P which is to be improved, and an origin of experience E.\n",
        "\n",
        "For example, a computer program that is learning to play chess is improving its performance P which is measured by its ability to win at a task T, which is playing chess, through experience E obtained by playing against humans.\n",
        "\n",
        "Machine learning has the benefit over traditional programming in that it can learn to solve problems without being explicitly programmed to do so. This is beneficial in problems that aren't completely described, i.e., it's not known ahead of time where the program will end up.\n",
        "\n",
        "There are 3 main concepts that are usually used interchangeably, however, there are some differences:\n",
        "* **Artificial intelligence** (AI): aims at building systems that simulate intelligence behaviour\n",
        "* **Machine learning** (ML): a subset of AI that learns to make decisions by fitting mathematical models to data.\n",
        "* **Deep Learning** (DL): machine learning algorithms that make use of neural networks.\n",
        "\n",
        "In regards to experience E from the definition machine learning can be divided into three categories:\n",
        "* supervised\n",
        "* unsupervised\n",
        "* reinforced\n",
        "\n",
        "**Supervised learning** algorithms are referred to the learning in which the algorithm is trying to learn the data that is given and prepared beforehand. Usually given the data $x$ with a $n$ number of features, the algorithm is trying to assess the labels $y$, which are already known. Concretely, given the pairs $(x,y)$ in which the $y$ variable is dependent on $x$, the algorithm is trying to find mapping $f:x \\rightarrow y$, usually $f(x) \\approx y$, where $f(x)$ is best describing the labels $y$. If the $y$ is a continuous variable, then the process of learning is called regression, and if the $y$ is a discreet variable it is usually referred to it as a classification.\n",
        "\n",
        "**Unsupervised learning** is usually used in cases when the dependent variable $y$ is not known. In this formulation of machine learning, from measured data $\\{x_i\\}$ algorithm is searching for a structure, grouping or some other mutual connection between data. This type of machine learning, also known as clustering, is trying to learn the whole probability distribution that generated measured data, either explicitly via density estimation, or implicitly via tasks of denoising. Those algorithms are capable of solving clustering problems, where the task is to find some kind of clusters in the data.\n",
        "\n",
        "**Reinforced learning** is a case of learning where the algorithm is interacting with its environment and adjusting its behaviour to achieve a goal. Such learning is complicated but is mostly based on the principle of reward and punishment, where algorithms respond to information obtained from the environment and then optimize their behaviour in relation to the reward or punishment given by either the observer or the environment itself. Reinforcement learning is useful in cases where partial or local information about the system is available. However, due to the nature of the problem for which it is mainly used, such a method is not often found in physics."
      ],
      "metadata": {
        "id": "ETOVEbrkabC0"
      }
    },
    {
      "cell_type": "markdown",
      "source": [
        "##Data\n",
        "The most important part of any machine learning algorithm is the data.\n",
        "\n",
        "The whole dataset that is collected is separated into 3 subsets which are as follows:\n",
        "* Training set\n",
        "* Validation set\n",
        "* Test set\n",
        "\n",
        "The usual way is to split the whole dataset into a 70% training set, 15% validation set and 15% test set. Data in all three sets must be separated in a way that all sets are good representations of the whole dataset.\n",
        "\n",
        "**Training set** is the most important part of the dataset. This set comprises the data that will initially be used to train the model. In other words, it helps teach the algorithm what to look for in the data.\n",
        "\n",
        "**Validation set** is usually about a 15% subset of the total dataset and is used to evaluate all the parameters of the model after the training phase is complete. The validation data is known data that helps in identifying any shortcomings in the model. This data is also used to identify if the model is over/underfitting.\n",
        "\n",
        "**Test set** is input at the final stage of the training process. The data in this subset is unknown to the model and is used to test the accuracy of the model. In simpler words, this dataset will show how much your model has learned.\n",
        "\n",
        "**You should never let the model see the test set before final evaluation!**\n",
        "\n",
        "Your model will acquire the biases in your data. Can be good or bad depending on the situation. If you care about outliers or regions with few examples, think about how to train your model.\n",
        "\n",
        "Machine learning algorithms will work well if tested on data similar to the one used for training. Machine learning algorithms usually don't extrapolate well."
      ],
      "metadata": {
        "id": "yN2HxU4Tlczq"
      }
    },
    {
      "cell_type": "markdown",
      "source": [
        "##Neural networks\n",
        "\n",
        "Many problems in machine learning can be seen as optimization problems. However what function to choose to optimize?\n",
        "\n",
        "[Universal approximation theorems](https://en.wikipedia.org/wiki/Universal_approximation_theorem) imply that *neural networks* can represent a wide variety of interesting functions when given appropriate weights.\n",
        "\n",
        "Therefore neural networks are a good approximation for any unknown function we are trying to optimize.\n",
        "\n",
        "What is a neural network? [video lecture](https://www.youtube.com/watch?v=aircAruvnKk) or in [written form](https://www.3blue1brown.com/lessons/neural-networks)"
      ],
      "metadata": {
        "id": "WJZMl5KDu0pJ"
      }
    },
    {
      "cell_type": "markdown",
      "source": [
        "#Exercise 1\n",
        "Create neural network from the video that inputs random data. Activation of the n-th layer is:\n",
        "$$a^{(n)} = \\sigma^{(n)}(W^{(n-1,n)} \\cdot a^{(n-1)}+b^{(n)})$$"
      ],
      "metadata": {
        "id": "owrsJoVCI7PD"
      }
    },
    {
      "cell_type": "code",
      "source": [
        "import numpy as np\n",
        "#create sigmoid function to be activation function for layers\n",
        "def sigmoid(z):\n",
        "    return 1 / (1 + np.exp(-z))"
      ],
      "metadata": {
        "id": "Pie3yEAaOPan"
      },
      "execution_count": 13,
      "outputs": []
    },
    {
      "cell_type": "code",
      "source": [
        "# creating random weigths\n",
        "w0 = np.random.rand(784, 16)*2-1\n",
        "w1 = np.random.rand(16, 16)*2-1\n",
        "w2 = np.random.rand(16, 10)*2-1\n",
        "\n",
        "# creating random biases\n",
        "b0 = np.random.rand(16)*2-1\n",
        "b1 = np.random.rand(16)*2-1\n",
        "b2 = np.random.rand(10)*2-1\n",
        "\n",
        "# creating random input layer vector\n",
        "input_layer = np.random.rand(784)"
      ],
      "metadata": {
        "id": "10MhVU2APMCV"
      },
      "execution_count": 14,
      "outputs": []
    },
    {
      "cell_type": "code",
      "source": [
        "# calculate first hidden layer\n",
        "a1 = sigmoid(np.dot(input_layer, w0) + b0)\n",
        "# calculate second hidden layer\n",
        "a2 = sigmoid(np.dot(a1, w1) + b1)\n",
        "# calculate output layer\n",
        "output_layer = sigmoid(np.dot(a2, w2) + b2)"
      ],
      "metadata": {
        "id": "UIUqJ-okT6G5"
      },
      "execution_count": 15,
      "outputs": []
    },
    {
      "cell_type": "code",
      "source": [
        "print (output_layer)"
      ],
      "metadata": {
        "colab": {
          "base_uri": "https://localhost:8080/"
        },
        "id": "yoUajoxgVDQ3",
        "outputId": "bee381ec-93ca-4305-90b1-4ca08b3a1e4d"
      },
      "execution_count": 16,
      "outputs": [
        {
          "output_type": "stream",
          "name": "stdout",
          "text": [
            "[0.12095226 0.11619382 0.55806272 0.23330173 0.60617395 0.97658422\n",
            " 0.10022014 0.03302248 0.36803093 0.98344838]\n"
          ]
        }
      ]
    },
    {
      "cell_type": "code",
      "source": [
        "print (\"Predicted number is:\", np.argmax(output_layer))"
      ],
      "metadata": {
        "colab": {
          "base_uri": "https://localhost:8080/"
        },
        "id": "15jvt__aVRlh",
        "outputId": "2978be60-ed08-4f4d-8fca-9eb8d8e7adfc"
      },
      "execution_count": 17,
      "outputs": [
        {
          "output_type": "stream",
          "name": "stdout",
          "text": [
            "Predicted number is: 9\n"
          ]
        }
      ]
    },
    {
      "cell_type": "markdown",
      "source": [
        "#Exercise 2\n",
        "Read MNIST dataset of handwritten digits and prepare the data to be used by neural network."
      ],
      "metadata": {
        "id": "51g_8YyVVvcl"
      }
    },
    {
      "cell_type": "markdown",
      "source": [
        "Let's read mnist handwritten digits from disk."
      ],
      "metadata": {
        "id": "a9j9zqSk06Vw"
      }
    },
    {
      "cell_type": "code",
      "source": [
        "import numpy as np\n",
        "import pandas as pd\n",
        "import matplotlib.pyplot as plt\n",
        "# Read comma separated files that contain train and test set from disk to pandas dataframe\n",
        "mnist_train_df = pd.read_csv(\"/content/sample_data/mnist_train_small.csv\", header=None)\n",
        "mnist_test_df = pd.read_csv(\"/content/sample_data/mnist_test.csv\", header=None)\n",
        "mnist_train_df"
      ],
      "metadata": {
        "colab": {
          "base_uri": "https://localhost:8080/",
          "height": 424
        },
        "id": "DEKhzkl1a4V0",
        "outputId": "fb69bec4-8087-45b0-d137-09d6de8b5a87"
      },
      "execution_count": 18,
      "outputs": [
        {
          "output_type": "execute_result",
          "data": {
            "text/plain": [
              "       0    1    2    3    4    5    6    7    8    9    ...  775  776  777  \\\n",
              "0        6    0    0    0    0    0    0    0    0    0  ...    0    0    0   \n",
              "1        5    0    0    0    0    0    0    0    0    0  ...    0    0    0   \n",
              "2        7    0    0    0    0    0    0    0    0    0  ...    0    0    0   \n",
              "3        9    0    0    0    0    0    0    0    0    0  ...    0    0    0   \n",
              "4        5    0    0    0    0    0    0    0    0    0  ...    0    0    0   \n",
              "...    ...  ...  ...  ...  ...  ...  ...  ...  ...  ...  ...  ...  ...  ...   \n",
              "19995    0    0    0    0    0    0    0    0    0    0  ...    0    0    0   \n",
              "19996    1    0    0    0    0    0    0    0    0    0  ...    0    0    0   \n",
              "19997    2    0    0    0    0    0    0    0    0    0  ...    0    0    0   \n",
              "19998    9    0    0    0    0    0    0    0    0    0  ...    0    0    0   \n",
              "19999    5    0    0    0    0    0    0    0    0    0  ...    0    0    0   \n",
              "\n",
              "       778  779  780  781  782  783  784  \n",
              "0        0    0    0    0    0    0    0  \n",
              "1        0    0    0    0    0    0    0  \n",
              "2        0    0    0    0    0    0    0  \n",
              "3        0    0    0    0    0    0    0  \n",
              "4        0    0    0    0    0    0    0  \n",
              "...    ...  ...  ...  ...  ...  ...  ...  \n",
              "19995    0    0    0    0    0    0    0  \n",
              "19996    0    0    0    0    0    0    0  \n",
              "19997    0    0    0    0    0    0    0  \n",
              "19998    0    0    0    0    0    0    0  \n",
              "19999    0    0    0    0    0    0    0  \n",
              "\n",
              "[20000 rows x 785 columns]"
            ],
            "text/html": [
              "\n",
              "\n",
              "  <div id=\"df-f6fd460d-3777-42f9-9019-98c6ac5b4713\">\n",
              "    <div class=\"colab-df-container\">\n",
              "      <div>\n",
              "<style scoped>\n",
              "    .dataframe tbody tr th:only-of-type {\n",
              "        vertical-align: middle;\n",
              "    }\n",
              "\n",
              "    .dataframe tbody tr th {\n",
              "        vertical-align: top;\n",
              "    }\n",
              "\n",
              "    .dataframe thead th {\n",
              "        text-align: right;\n",
              "    }\n",
              "</style>\n",
              "<table border=\"1\" class=\"dataframe\">\n",
              "  <thead>\n",
              "    <tr style=\"text-align: right;\">\n",
              "      <th></th>\n",
              "      <th>0</th>\n",
              "      <th>1</th>\n",
              "      <th>2</th>\n",
              "      <th>3</th>\n",
              "      <th>4</th>\n",
              "      <th>5</th>\n",
              "      <th>6</th>\n",
              "      <th>7</th>\n",
              "      <th>8</th>\n",
              "      <th>9</th>\n",
              "      <th>...</th>\n",
              "      <th>775</th>\n",
              "      <th>776</th>\n",
              "      <th>777</th>\n",
              "      <th>778</th>\n",
              "      <th>779</th>\n",
              "      <th>780</th>\n",
              "      <th>781</th>\n",
              "      <th>782</th>\n",
              "      <th>783</th>\n",
              "      <th>784</th>\n",
              "    </tr>\n",
              "  </thead>\n",
              "  <tbody>\n",
              "    <tr>\n",
              "      <th>0</th>\n",
              "      <td>6</td>\n",
              "      <td>0</td>\n",
              "      <td>0</td>\n",
              "      <td>0</td>\n",
              "      <td>0</td>\n",
              "      <td>0</td>\n",
              "      <td>0</td>\n",
              "      <td>0</td>\n",
              "      <td>0</td>\n",
              "      <td>0</td>\n",
              "      <td>...</td>\n",
              "      <td>0</td>\n",
              "      <td>0</td>\n",
              "      <td>0</td>\n",
              "      <td>0</td>\n",
              "      <td>0</td>\n",
              "      <td>0</td>\n",
              "      <td>0</td>\n",
              "      <td>0</td>\n",
              "      <td>0</td>\n",
              "      <td>0</td>\n",
              "    </tr>\n",
              "    <tr>\n",
              "      <th>1</th>\n",
              "      <td>5</td>\n",
              "      <td>0</td>\n",
              "      <td>0</td>\n",
              "      <td>0</td>\n",
              "      <td>0</td>\n",
              "      <td>0</td>\n",
              "      <td>0</td>\n",
              "      <td>0</td>\n",
              "      <td>0</td>\n",
              "      <td>0</td>\n",
              "      <td>...</td>\n",
              "      <td>0</td>\n",
              "      <td>0</td>\n",
              "      <td>0</td>\n",
              "      <td>0</td>\n",
              "      <td>0</td>\n",
              "      <td>0</td>\n",
              "      <td>0</td>\n",
              "      <td>0</td>\n",
              "      <td>0</td>\n",
              "      <td>0</td>\n",
              "    </tr>\n",
              "    <tr>\n",
              "      <th>2</th>\n",
              "      <td>7</td>\n",
              "      <td>0</td>\n",
              "      <td>0</td>\n",
              "      <td>0</td>\n",
              "      <td>0</td>\n",
              "      <td>0</td>\n",
              "      <td>0</td>\n",
              "      <td>0</td>\n",
              "      <td>0</td>\n",
              "      <td>0</td>\n",
              "      <td>...</td>\n",
              "      <td>0</td>\n",
              "      <td>0</td>\n",
              "      <td>0</td>\n",
              "      <td>0</td>\n",
              "      <td>0</td>\n",
              "      <td>0</td>\n",
              "      <td>0</td>\n",
              "      <td>0</td>\n",
              "      <td>0</td>\n",
              "      <td>0</td>\n",
              "    </tr>\n",
              "    <tr>\n",
              "      <th>3</th>\n",
              "      <td>9</td>\n",
              "      <td>0</td>\n",
              "      <td>0</td>\n",
              "      <td>0</td>\n",
              "      <td>0</td>\n",
              "      <td>0</td>\n",
              "      <td>0</td>\n",
              "      <td>0</td>\n",
              "      <td>0</td>\n",
              "      <td>0</td>\n",
              "      <td>...</td>\n",
              "      <td>0</td>\n",
              "      <td>0</td>\n",
              "      <td>0</td>\n",
              "      <td>0</td>\n",
              "      <td>0</td>\n",
              "      <td>0</td>\n",
              "      <td>0</td>\n",
              "      <td>0</td>\n",
              "      <td>0</td>\n",
              "      <td>0</td>\n",
              "    </tr>\n",
              "    <tr>\n",
              "      <th>4</th>\n",
              "      <td>5</td>\n",
              "      <td>0</td>\n",
              "      <td>0</td>\n",
              "      <td>0</td>\n",
              "      <td>0</td>\n",
              "      <td>0</td>\n",
              "      <td>0</td>\n",
              "      <td>0</td>\n",
              "      <td>0</td>\n",
              "      <td>0</td>\n",
              "      <td>...</td>\n",
              "      <td>0</td>\n",
              "      <td>0</td>\n",
              "      <td>0</td>\n",
              "      <td>0</td>\n",
              "      <td>0</td>\n",
              "      <td>0</td>\n",
              "      <td>0</td>\n",
              "      <td>0</td>\n",
              "      <td>0</td>\n",
              "      <td>0</td>\n",
              "    </tr>\n",
              "    <tr>\n",
              "      <th>...</th>\n",
              "      <td>...</td>\n",
              "      <td>...</td>\n",
              "      <td>...</td>\n",
              "      <td>...</td>\n",
              "      <td>...</td>\n",
              "      <td>...</td>\n",
              "      <td>...</td>\n",
              "      <td>...</td>\n",
              "      <td>...</td>\n",
              "      <td>...</td>\n",
              "      <td>...</td>\n",
              "      <td>...</td>\n",
              "      <td>...</td>\n",
              "      <td>...</td>\n",
              "      <td>...</td>\n",
              "      <td>...</td>\n",
              "      <td>...</td>\n",
              "      <td>...</td>\n",
              "      <td>...</td>\n",
              "      <td>...</td>\n",
              "      <td>...</td>\n",
              "    </tr>\n",
              "    <tr>\n",
              "      <th>19995</th>\n",
              "      <td>0</td>\n",
              "      <td>0</td>\n",
              "      <td>0</td>\n",
              "      <td>0</td>\n",
              "      <td>0</td>\n",
              "      <td>0</td>\n",
              "      <td>0</td>\n",
              "      <td>0</td>\n",
              "      <td>0</td>\n",
              "      <td>0</td>\n",
              "      <td>...</td>\n",
              "      <td>0</td>\n",
              "      <td>0</td>\n",
              "      <td>0</td>\n",
              "      <td>0</td>\n",
              "      <td>0</td>\n",
              "      <td>0</td>\n",
              "      <td>0</td>\n",
              "      <td>0</td>\n",
              "      <td>0</td>\n",
              "      <td>0</td>\n",
              "    </tr>\n",
              "    <tr>\n",
              "      <th>19996</th>\n",
              "      <td>1</td>\n",
              "      <td>0</td>\n",
              "      <td>0</td>\n",
              "      <td>0</td>\n",
              "      <td>0</td>\n",
              "      <td>0</td>\n",
              "      <td>0</td>\n",
              "      <td>0</td>\n",
              "      <td>0</td>\n",
              "      <td>0</td>\n",
              "      <td>...</td>\n",
              "      <td>0</td>\n",
              "      <td>0</td>\n",
              "      <td>0</td>\n",
              "      <td>0</td>\n",
              "      <td>0</td>\n",
              "      <td>0</td>\n",
              "      <td>0</td>\n",
              "      <td>0</td>\n",
              "      <td>0</td>\n",
              "      <td>0</td>\n",
              "    </tr>\n",
              "    <tr>\n",
              "      <th>19997</th>\n",
              "      <td>2</td>\n",
              "      <td>0</td>\n",
              "      <td>0</td>\n",
              "      <td>0</td>\n",
              "      <td>0</td>\n",
              "      <td>0</td>\n",
              "      <td>0</td>\n",
              "      <td>0</td>\n",
              "      <td>0</td>\n",
              "      <td>0</td>\n",
              "      <td>...</td>\n",
              "      <td>0</td>\n",
              "      <td>0</td>\n",
              "      <td>0</td>\n",
              "      <td>0</td>\n",
              "      <td>0</td>\n",
              "      <td>0</td>\n",
              "      <td>0</td>\n",
              "      <td>0</td>\n",
              "      <td>0</td>\n",
              "      <td>0</td>\n",
              "    </tr>\n",
              "    <tr>\n",
              "      <th>19998</th>\n",
              "      <td>9</td>\n",
              "      <td>0</td>\n",
              "      <td>0</td>\n",
              "      <td>0</td>\n",
              "      <td>0</td>\n",
              "      <td>0</td>\n",
              "      <td>0</td>\n",
              "      <td>0</td>\n",
              "      <td>0</td>\n",
              "      <td>0</td>\n",
              "      <td>...</td>\n",
              "      <td>0</td>\n",
              "      <td>0</td>\n",
              "      <td>0</td>\n",
              "      <td>0</td>\n",
              "      <td>0</td>\n",
              "      <td>0</td>\n",
              "      <td>0</td>\n",
              "      <td>0</td>\n",
              "      <td>0</td>\n",
              "      <td>0</td>\n",
              "    </tr>\n",
              "    <tr>\n",
              "      <th>19999</th>\n",
              "      <td>5</td>\n",
              "      <td>0</td>\n",
              "      <td>0</td>\n",
              "      <td>0</td>\n",
              "      <td>0</td>\n",
              "      <td>0</td>\n",
              "      <td>0</td>\n",
              "      <td>0</td>\n",
              "      <td>0</td>\n",
              "      <td>0</td>\n",
              "      <td>...</td>\n",
              "      <td>0</td>\n",
              "      <td>0</td>\n",
              "      <td>0</td>\n",
              "      <td>0</td>\n",
              "      <td>0</td>\n",
              "      <td>0</td>\n",
              "      <td>0</td>\n",
              "      <td>0</td>\n",
              "      <td>0</td>\n",
              "      <td>0</td>\n",
              "    </tr>\n",
              "  </tbody>\n",
              "</table>\n",
              "<p>20000 rows × 785 columns</p>\n",
              "</div>\n",
              "      <button class=\"colab-df-convert\" onclick=\"convertToInteractive('df-f6fd460d-3777-42f9-9019-98c6ac5b4713')\"\n",
              "              title=\"Convert this dataframe to an interactive table.\"\n",
              "              style=\"display:none;\">\n",
              "\n",
              "  <svg xmlns=\"http://www.w3.org/2000/svg\" height=\"24px\"viewBox=\"0 0 24 24\"\n",
              "       width=\"24px\">\n",
              "    <path d=\"M0 0h24v24H0V0z\" fill=\"none\"/>\n",
              "    <path d=\"M18.56 5.44l.94 2.06.94-2.06 2.06-.94-2.06-.94-.94-2.06-.94 2.06-2.06.94zm-11 1L8.5 8.5l.94-2.06 2.06-.94-2.06-.94L8.5 2.5l-.94 2.06-2.06.94zm10 10l.94 2.06.94-2.06 2.06-.94-2.06-.94-.94-2.06-.94 2.06-2.06.94z\"/><path d=\"M17.41 7.96l-1.37-1.37c-.4-.4-.92-.59-1.43-.59-.52 0-1.04.2-1.43.59L10.3 9.45l-7.72 7.72c-.78.78-.78 2.05 0 2.83L4 21.41c.39.39.9.59 1.41.59.51 0 1.02-.2 1.41-.59l7.78-7.78 2.81-2.81c.8-.78.8-2.07 0-2.86zM5.41 20L4 18.59l7.72-7.72 1.47 1.35L5.41 20z\"/>\n",
              "  </svg>\n",
              "      </button>\n",
              "\n",
              "\n",
              "\n",
              "    <div id=\"df-7619cee8-fa9e-4a36-9b40-2b75f8e5ee94\">\n",
              "      <button class=\"colab-df-quickchart\" onclick=\"quickchart('df-7619cee8-fa9e-4a36-9b40-2b75f8e5ee94')\"\n",
              "              title=\"Suggest charts.\"\n",
              "              style=\"display:none;\">\n",
              "\n",
              "<svg xmlns=\"http://www.w3.org/2000/svg\" height=\"24px\"viewBox=\"0 0 24 24\"\n",
              "     width=\"24px\">\n",
              "    <g>\n",
              "        <path d=\"M19 3H5c-1.1 0-2 .9-2 2v14c0 1.1.9 2 2 2h14c1.1 0 2-.9 2-2V5c0-1.1-.9-2-2-2zM9 17H7v-7h2v7zm4 0h-2V7h2v10zm4 0h-2v-4h2v4z\"/>\n",
              "    </g>\n",
              "</svg>\n",
              "      </button>\n",
              "    </div>\n",
              "\n",
              "<style>\n",
              "  .colab-df-quickchart {\n",
              "    background-color: #E8F0FE;\n",
              "    border: none;\n",
              "    border-radius: 50%;\n",
              "    cursor: pointer;\n",
              "    display: none;\n",
              "    fill: #1967D2;\n",
              "    height: 32px;\n",
              "    padding: 0 0 0 0;\n",
              "    width: 32px;\n",
              "  }\n",
              "\n",
              "  .colab-df-quickchart:hover {\n",
              "    background-color: #E2EBFA;\n",
              "    box-shadow: 0px 1px 2px rgba(60, 64, 67, 0.3), 0px 1px 3px 1px rgba(60, 64, 67, 0.15);\n",
              "    fill: #174EA6;\n",
              "  }\n",
              "\n",
              "  [theme=dark] .colab-df-quickchart {\n",
              "    background-color: #3B4455;\n",
              "    fill: #D2E3FC;\n",
              "  }\n",
              "\n",
              "  [theme=dark] .colab-df-quickchart:hover {\n",
              "    background-color: #434B5C;\n",
              "    box-shadow: 0px 1px 3px 1px rgba(0, 0, 0, 0.15);\n",
              "    filter: drop-shadow(0px 1px 2px rgba(0, 0, 0, 0.3));\n",
              "    fill: #FFFFFF;\n",
              "  }\n",
              "</style>\n",
              "\n",
              "    <script>\n",
              "      async function quickchart(key) {\n",
              "        const containerElement = document.querySelector('#' + key);\n",
              "        const charts = await google.colab.kernel.invokeFunction(\n",
              "            'suggestCharts', [key], {});\n",
              "      }\n",
              "    </script>\n",
              "\n",
              "      <script>\n",
              "\n",
              "function displayQuickchartButton(domScope) {\n",
              "  let quickchartButtonEl =\n",
              "    domScope.querySelector('#df-7619cee8-fa9e-4a36-9b40-2b75f8e5ee94 button.colab-df-quickchart');\n",
              "  quickchartButtonEl.style.display =\n",
              "    google.colab.kernel.accessAllowed ? 'block' : 'none';\n",
              "}\n",
              "\n",
              "        displayQuickchartButton(document);\n",
              "      </script>\n",
              "      <style>\n",
              "    .colab-df-container {\n",
              "      display:flex;\n",
              "      flex-wrap:wrap;\n",
              "      gap: 12px;\n",
              "    }\n",
              "\n",
              "    .colab-df-convert {\n",
              "      background-color: #E8F0FE;\n",
              "      border: none;\n",
              "      border-radius: 50%;\n",
              "      cursor: pointer;\n",
              "      display: none;\n",
              "      fill: #1967D2;\n",
              "      height: 32px;\n",
              "      padding: 0 0 0 0;\n",
              "      width: 32px;\n",
              "    }\n",
              "\n",
              "    .colab-df-convert:hover {\n",
              "      background-color: #E2EBFA;\n",
              "      box-shadow: 0px 1px 2px rgba(60, 64, 67, 0.3), 0px 1px 3px 1px rgba(60, 64, 67, 0.15);\n",
              "      fill: #174EA6;\n",
              "    }\n",
              "\n",
              "    [theme=dark] .colab-df-convert {\n",
              "      background-color: #3B4455;\n",
              "      fill: #D2E3FC;\n",
              "    }\n",
              "\n",
              "    [theme=dark] .colab-df-convert:hover {\n",
              "      background-color: #434B5C;\n",
              "      box-shadow: 0px 1px 3px 1px rgba(0, 0, 0, 0.15);\n",
              "      filter: drop-shadow(0px 1px 2px rgba(0, 0, 0, 0.3));\n",
              "      fill: #FFFFFF;\n",
              "    }\n",
              "  </style>\n",
              "\n",
              "      <script>\n",
              "        const buttonEl =\n",
              "          document.querySelector('#df-f6fd460d-3777-42f9-9019-98c6ac5b4713 button.colab-df-convert');\n",
              "        buttonEl.style.display =\n",
              "          google.colab.kernel.accessAllowed ? 'block' : 'none';\n",
              "\n",
              "        async function convertToInteractive(key) {\n",
              "          const element = document.querySelector('#df-f6fd460d-3777-42f9-9019-98c6ac5b4713');\n",
              "          const dataTable =\n",
              "            await google.colab.kernel.invokeFunction('convertToInteractive',\n",
              "                                                     [key], {});\n",
              "          if (!dataTable) return;\n",
              "\n",
              "          const docLinkHtml = 'Like what you see? Visit the ' +\n",
              "            '<a target=\"_blank\" href=https://colab.research.google.com/notebooks/data_table.ipynb>data table notebook</a>'\n",
              "            + ' to learn more about interactive tables.';\n",
              "          element.innerHTML = '';\n",
              "          dataTable['output_type'] = 'display_data';\n",
              "          await google.colab.output.renderOutput(dataTable, element);\n",
              "          const docLink = document.createElement('div');\n",
              "          docLink.innerHTML = docLinkHtml;\n",
              "          element.appendChild(docLink);\n",
              "        }\n",
              "      </script>\n",
              "    </div>\n",
              "  </div>\n"
            ]
          },
          "metadata": {},
          "execution_count": 18
        }
      ]
    },
    {
      "cell_type": "markdown",
      "source": [
        "As you can see the first 784 rows are values of the pixels, however last row is the \"label\" of each image."
      ],
      "metadata": {
        "id": "Bs0D-cea1CFd"
      }
    },
    {
      "cell_type": "code",
      "source": [
        "# Convert pandas dataframe to numpy array, and separate pixel values from labels\n",
        "mnist_train_x = mnist_train_df.to_numpy()[:, 1:]\n",
        "mnist_train_y = mnist_train_df.to_numpy()[:, 0]\n",
        "\n",
        "mnist_test_x = mnist_test_df.to_numpy()[:, 1:]\n",
        "mnist_test_y = mnist_test_df.to_numpy()[:, 0]\n",
        "\n",
        "print (\"Train set shape:\", mnist_train_x.shape, mnist_train_y.shape)\n",
        "print (\"Test set shape:\", mnist_test_x.shape, mnist_test_y.shape)"
      ],
      "metadata": {
        "colab": {
          "base_uri": "https://localhost:8080/"
        },
        "id": "rojKPvAXztHI",
        "outputId": "3d35e580-7c04-4716-e2cf-484f97980501"
      },
      "execution_count": 19,
      "outputs": [
        {
          "output_type": "stream",
          "name": "stdout",
          "text": [
            "Train set shape: (20000, 784) (20000,)\n",
            "Test set shape: (10000, 784) (10000,)\n"
          ]
        }
      ]
    },
    {
      "cell_type": "code",
      "source": [
        "# Let's show some images from test set\n",
        "fig, ax = plt.subplots(5,5)\n",
        "img_index = np.random.randint(0, high=mnist_train_x.shape[0], size=ax.shape)\n",
        "for i in range(img_index.shape[0]):\n",
        "    for j in range(img_index.shape[1]):\n",
        "        test = mnist_train_x[img_index[i,j]].reshape([int(np.sqrt(mnist_train_x.shape[-1])), -1])\n",
        "        ax[i, j].imshow(test, cmap='Greys_r')\n",
        "        ax[i, j].set_xticks([])\n",
        "        ax[i, j].set_yticks([])\n",
        "fig.tight_layout()"
      ],
      "metadata": {
        "colab": {
          "base_uri": "https://localhost:8080/",
          "height": 486
        },
        "id": "oOzn3jp31ZpW",
        "outputId": "f83361ce-a325-4296-b7f2-b9bed49ec034"
      },
      "execution_count": 20,
      "outputs": [
        {
          "output_type": "display_data",
          "data": {
            "text/plain": [
              "<Figure size 640x480 with 25 Axes>"
            ],
            "image/png": "[encoded data removed]"
          },
          "metadata": {}
        }
      ]
    },
    {
      "cell_type": "markdown",
      "source": [
        "##Sidenote\n",
        "The labels in the train and test set are just numbers from 0-9, however, the output of our network will be a 9-neuron vector where the maximum value will be the network prediction of the number. Therefore we must convert the y labels from the numbers to the 9-dimensional vector in which all the values are 0 except the one neuron corresponding to the true value of the number, which must be one. This is called [one-hot encoding](https://en.wikipedia.org/wiki/One-hot)."
      ],
      "metadata": {
        "id": "0OZpVh3AWsxa"
      }
    },
    {
      "cell_type": "code",
      "source": [
        "print (np.unique(mnist_test_y))"
      ],
      "metadata": {
        "colab": {
          "base_uri": "https://localhost:8080/"
        },
        "id": "P83lP4ZSW2mC",
        "outputId": "2d339a39-b185-41e9-c888-efb61d087cfe"
      },
      "execution_count": 21,
      "outputs": [
        {
          "output_type": "stream",
          "name": "stdout",
          "text": [
            "[0 1 2 3 4 5 6 7 8 9]\n"
          ]
        }
      ]
    },
    {
      "cell_type": "code",
      "source": [
        "def one_hot_encode(label):\n",
        "    # one hot encoding so we can compare output layer and labels\n",
        "    num_classes = 10\n",
        "    one_hot = np.zeros((num_classes, label.shape[0]))\n",
        "    # create\n",
        "    one_hot [label, range(label.shape[0])] = 1\n",
        "    return one_hot.T"
      ],
      "metadata": {
        "id": "arxAQsjN3aOA"
      },
      "execution_count": 22,
      "outputs": []
    },
    {
      "cell_type": "markdown",
      "source": [
        "#Problem 1\n",
        "Create a neural network using a `class` to predict all the labels from the test MNIST dataset images. The number of neurons in each layer must be an input to the class, and the activation function at each layer is a sigmoid function. All the images must be evaluated at the same time as a tensor.\n",
        "\n",
        "A suggestion is to create random weights and biases of appropriate size at class initialization, using attributes. Calculating the output layer can be one method and getting predictions from output layers can be another method.\n",
        "\n",
        "Calculate randomly initiated network accuracy of predicting labels. Choose the number of neurons in each layer."
      ],
      "metadata": {
        "id": "XUTIbkmsYk8l"
      }
    },
    {
      "cell_type": "code",
      "source": [
        "#@title My solution\n",
        "# Add code here"
      ],
      "metadata": {
        "id": "KyQEV8yKcxn2"
      },
      "execution_count": 23,
      "outputs": []
    },
    {
      "cell_type": "code",
      "source": [
        "#@title Solution\n",
        "import numpy as np\n",
        "\n",
        "class NeuralNetwork:\n",
        "\n",
        "    def __init__(self, layer_sizes):\n",
        "        #defining sizes of the weights and biases for each layer\n",
        "        self.layer_sizes = layer_sizes\n",
        "        self.weights = [np.random.rand(x, y)*2-1 for x, y in zip(layer_sizes[:-1], layer_sizes[1:])]\n",
        "        self.biases = [np.random.rand(x)*2-1 for x in layer_sizes[1:]]\n",
        "\n",
        "    def sigmoid(self, z):\n",
        "        return 1 / (1 + np.exp(-z))\n",
        "\n",
        "    def feedforward(self, a):\n",
        "        #forward propagation to get activations on the neurons on the output layer\n",
        "        for i in range(len(self.layer_sizes)-1):\n",
        "            a = self.sigmoid(np.dot(a, self.weights[i]) + self.biases[i])\n",
        "        return a\n",
        "\n",
        "    def get_prediction(self, output):\n",
        "        return np.argmax(output, axis=-1)\n",
        "\n",
        "network = NeuralNetwork ([mnist_test_x.shape[1],16,16,10])\n",
        "output_layer = network.feedforward(mnist_test_x)\n",
        "predictions =  network.get_prediction(output_layer)\n",
        "accuracy = (predictions == mnist_test_y).sum()/mnist_test_y.shape[0]\n",
        "print (\"Accuracy is:\", accuracy)"
      ],
      "metadata": {
        "colab": {
          "base_uri": "https://localhost:8080/"
        },
        "cellView": "form",
        "id": "wEaC7MSJaWYh",
        "outputId": "1d251266-1db7-4835-baab-cd110a8e4689"
      },
      "execution_count": 24,
      "outputs": [
        {
          "output_type": "stream",
          "name": "stdout",
          "text": [
            "Accuracy is: 0.0965\n"
          ]
        },
        {
          "output_type": "stream",
          "name": "stderr",
          "text": [
            "<ipython-input-24-f8e45fba6559>:13: RuntimeWarning: overflow encountered in exp\n",
            "  return 1 / (1 + np.exp(-z))\n"
          ]
        }
      ]
    }
  ]
}