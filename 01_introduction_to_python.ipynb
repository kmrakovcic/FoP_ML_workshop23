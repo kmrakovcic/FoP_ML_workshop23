{
  "nbformat": 4,
  "nbformat_minor": 0,
  "metadata": {
    "colab": {
      "provenance": [],
      "authorship_tag": "ABX9TyP7Uq2bnRjcMHzdF5i5DxZN",
      "include_colab_link": true
    },
    "kernelspec": {
      "name": "python3",
      "display_name": "Python 3"
    },
    "language_info": {
      "name": "python"
    }
  },
  "cells": [
    {
      "cell_type": "markdown",
      "metadata": {
        "id": "view-in-github",
        "colab_type": "text"
      },
      "source": [
        "<a href=\"https://colab.research.google.com/github/kmrakovcic/FoP_ML_workshop23/blob/master/01_introduction_to_python.ipynb\" target=\"_parent\"><img src=\"https://colab.research.google.com/assets/colab-badge.svg\" alt=\"Open In Colab\"/></a>"
      ]
    },
    {
      "cell_type": "markdown",
      "source": [
        "# Introduction to Python\n",
        "\n",
        "Traditional first program in python is \"Hello World!\". It is done by using the command `print()`"
      ],
      "metadata": {
        "id": "4zmOAB1iM3Cl"
      }
    },
    {
      "cell_type": "code",
      "execution_count": null,
      "metadata": {
        "colab": {
          "base_uri": "https://localhost:8080/"
        },
        "id": "N1Eq2-BKMqSy",
        "outputId": "902ce26b-af94-4f66-cf42-cc2cc5a8a51d"
      },
      "outputs": [
        {
          "output_type": "stream",
          "name": "stdout",
          "text": [
            "Hello, World!\n"
          ]
        }
      ],
      "source": [
        "print(\"Hello, World!\")"
      ]
    },
    {
      "cell_type": "markdown",
      "source": [
        "##Basic introduction"
      ],
      "metadata": {
        "id": "QaoEF5Q2rgPN"
      }
    },
    {
      "cell_type": "markdown",
      "source": [
        "### Indentation\n",
        "Indentation refers to the spaces at the beginning of a code line.\n",
        "\n",
        "Where in other programming languages the indentation in code is for readability only, the indentation in Python is very important.\n",
        "\n",
        "Python uses indentation to indicate a block of code."
      ],
      "metadata": {
        "id": "ABVXDa1yM7Pl"
      }
    },
    {
      "cell_type": "code",
      "source": [
        "if 6 > 3:\n",
        "  print(\"Six is greater than three!\")"
      ],
      "metadata": {
        "colab": {
          "base_uri": "https://localhost:8080/"
        },
        "id": "O8MKBmsRMxCB",
        "outputId": "f1351b8c-b7cb-457f-9f50-ebc4abd03f7e"
      },
      "execution_count": null,
      "outputs": [
        {
          "output_type": "stream",
          "name": "stdout",
          "text": [
            "Six is greater than three!\n"
          ]
        }
      ]
    },
    {
      "cell_type": "markdown",
      "source": [
        "###Variables\n",
        "Python does not expect declaration of a variable. A new variable is created the moment you first assign a value to it. Type of the variable is decided based on the type of data assigned to it."
      ],
      "metadata": {
        "id": "OvvgWX2bN50X"
      }
    },
    {
      "cell_type": "code",
      "source": [
        "a = 4       #integer\n",
        "b = \"Marc\"  #string\n",
        "c = True    #boolean\n",
        "d = 3.14    #float\n",
        "\n",
        "print(a)\n",
        "print(b)\n",
        "print(c)\n",
        "print(d)"
      ],
      "metadata": {
        "colab": {
          "base_uri": "https://localhost:8080/"
        },
        "id": "uoIiGv_gO-SS",
        "outputId": "435585f2-7dd2-4520-e0a2-a7604f3c3406"
      },
      "execution_count": null,
      "outputs": [
        {
          "output_type": "stream",
          "name": "stdout",
          "text": [
            "4\n",
            "Marc\n",
            "True\n",
            "3.14\n"
          ]
        }
      ]
    },
    {
      "cell_type": "markdown",
      "source": [
        "Variables do not need to be declared with any particular type, and can even change type after they have been set."
      ],
      "metadata": {
        "id": "wHuAgATCPKqV"
      }
    },
    {
      "cell_type": "code",
      "source": [
        "x = 4       # x is of type int\n",
        "print(x)\n",
        "x = \"Susan\" # x is now of type str\n",
        "print(x)\n",
        "x = True    # x is now of type bool\n",
        "print (x)"
      ],
      "metadata": {
        "colab": {
          "base_uri": "https://localhost:8080/"
        },
        "id": "N1rYV43DPLNN",
        "outputId": "44961aec-07dc-475a-c42d-e90e2c0e0c0c"
      },
      "execution_count": null,
      "outputs": [
        {
          "output_type": "stream",
          "name": "stdout",
          "text": [
            "4\n",
            "Susan\n",
            "True\n"
          ]
        }
      ]
    },
    {
      "cell_type": "markdown",
      "source": [
        "Variables declared in first cell is remembered in following cells."
      ],
      "metadata": {
        "id": "yfexwxK_YcDN"
      }
    },
    {
      "cell_type": "code",
      "source": [
        "print (x)"
      ],
      "metadata": {
        "colab": {
          "base_uri": "https://localhost:8080/"
        },
        "id": "ROuZXrxdYle0",
        "outputId": "34bf6ce7-f4fa-411b-d1f7-d51239c5e7c6"
      },
      "execution_count": null,
      "outputs": [
        {
          "output_type": "stream",
          "name": "stdout",
          "text": [
            "True\n"
          ]
        }
      ]
    },
    {
      "cell_type": "markdown",
      "source": [
        "If you want to specify the type of the variable or change the type, it can be done with casting."
      ],
      "metadata": {
        "id": "eMOITqOTRrSd"
      }
    },
    {
      "cell_type": "code",
      "source": [
        "x = str(3)    # x will be '3'\n",
        "y = int(3)    # y will be 3\n",
        "z = float(3)  # z will be 3.0\n",
        "print (x, y, z)"
      ],
      "metadata": {
        "colab": {
          "base_uri": "https://localhost:8080/"
        },
        "id": "Fnxoii-NRFTW",
        "outputId": "b54fab8d-c1f5-4f45-a535-cf91b30637d4"
      },
      "execution_count": null,
      "outputs": [
        {
          "output_type": "stream",
          "name": "stdout",
          "text": [
            "3 3 3.0\n"
          ]
        }
      ]
    },
    {
      "cell_type": "markdown",
      "source": [
        "If you want to get the type of data in the variable you can use the `type()` function."
      ],
      "metadata": {
        "id": "QH2WYf7BSD2Q"
      }
    },
    {
      "cell_type": "code",
      "source": [
        "a = 4\n",
        "b = \"Marc\"\n",
        "c = True\n",
        "d = 3.14\n",
        "print(a, type(a))\n",
        "print(b, type(b))\n",
        "print(c, type(c))\n",
        "print(d, type(d))"
      ],
      "metadata": {
        "colab": {
          "base_uri": "https://localhost:8080/"
        },
        "id": "wwqq5kvxR6Hh",
        "outputId": "b611b9aa-68e1-41b3-b059-f5eda3d8e1c1"
      },
      "execution_count": null,
      "outputs": [
        {
          "output_type": "stream",
          "name": "stdout",
          "text": [
            "4 <class 'int'>\n",
            "Marc <class 'str'>\n",
            "True <class 'bool'>\n",
            "3.14 <class 'float'>\n"
          ]
        }
      ]
    },
    {
      "cell_type": "markdown",
      "source": [
        "###Built-in Data Types\n",
        "In programming, data type is an important concept. Variables can store data of different types, and different types can do different things. Python has the following data types built-in by default, in these categories:\n",
        "\n",
        "Type  | Name\n",
        "-------------------|------------------\n",
        "Text Type      | str\n",
        "Numeric Types  | int, float, complex\n",
        "Sequence Types | list, tuple\n",
        "Mapping Type:  | dict\n",
        "Boolean Type:  | bool\n",
        "None Type: \t   | NoneType"
      ],
      "metadata": {
        "id": "y3e0q_gES4_1"
      }
    },
    {
      "cell_type": "markdown",
      "source": [
        "###Lists\n",
        "Lists are used to store multiple items in a single variable. Another way to think of a list as a vector. Lists are created using square brackets:"
      ],
      "metadata": {
        "id": "MF_siJfSW-yd"
      }
    },
    {
      "cell_type": "code",
      "source": [
        "mylist = [\"Newton\", \"Fermi\", \"Einstein\"]\n",
        "print(mylist, type(mylist))"
      ],
      "metadata": {
        "colab": {
          "base_uri": "https://localhost:8080/"
        },
        "id": "D6y3bc_aXF_4",
        "outputId": "2b3207a5-7661-421a-e3bc-bef837233692"
      },
      "execution_count": null,
      "outputs": [
        {
          "output_type": "stream",
          "name": "stdout",
          "text": [
            "['Newton', 'Fermi', 'Einstein'] <class 'list'>\n"
          ]
        }
      ]
    },
    {
      "cell_type": "markdown",
      "source": [
        "List items are ordered, changeable, and allow duplicate values. List items are indexed, the first item has index `[0]`, the second item has index `[1]` etc. Negative indexing means start from the end: `[-1]` refers to the last item, `[-2]` refers to the second last item etc."
      ],
      "metadata": {
        "id": "8Vl_q2W0XsDk"
      }
    },
    {
      "cell_type": "code",
      "source": [
        "print (mylist[0])\n",
        "print (mylist[-1])"
      ],
      "metadata": {
        "colab": {
          "base_uri": "https://localhost:8080/"
        },
        "id": "Cv2S8Lh1Xzta",
        "outputId": "2a8c31bf-f6d1-46c1-8348-aebcaab9ca08"
      },
      "execution_count": null,
      "outputs": [
        {
          "output_type": "stream",
          "name": "stdout",
          "text": [
            "Newton\n",
            "Einstein\n"
          ]
        }
      ]
    },
    {
      "cell_type": "markdown",
      "source": [
        "To change the value of a specific item, refer to the index number:"
      ],
      "metadata": {
        "id": "Lum1lzYrZl38"
      }
    },
    {
      "cell_type": "code",
      "source": [
        "mylist[0] = \"Heisenberg\"\n",
        "print (mylist)"
      ],
      "metadata": {
        "colab": {
          "base_uri": "https://localhost:8080/"
        },
        "id": "hkNZRcqpY18o",
        "outputId": "b2b67e0e-2597-4a57-c330-79de3039eeaa"
      },
      "execution_count": null,
      "outputs": [
        {
          "output_type": "stream",
          "name": "stdout",
          "text": [
            "['Heisenberg', 'Fermi', 'Einstein']\n"
          ]
        }
      ]
    },
    {
      "cell_type": "markdown",
      "source": [
        "To add an item to the end of the list, use the `append()` method:"
      ],
      "metadata": {
        "id": "SKQp8T0WZ5WQ"
      }
    },
    {
      "cell_type": "code",
      "source": [
        "mylist = [\"Newton\", \"Fermi\", \"Einstein\"]\n",
        "mylist.append(\"Heisenberg\")\n",
        "print (mylist)"
      ],
      "metadata": {
        "colab": {
          "base_uri": "https://localhost:8080/"
        },
        "id": "fR3VUCQnZumt",
        "outputId": "7835b21b-f252-4ab1-c47c-2991eb4583b6"
      },
      "execution_count": null,
      "outputs": [
        {
          "output_type": "stream",
          "name": "stdout",
          "text": [
            "['Newton', 'Fermi', 'Einstein', 'Heisenberg']\n"
          ]
        }
      ]
    },
    {
      "cell_type": "markdown",
      "source": [
        "Length of a list can be obtained with `len()` command"
      ],
      "metadata": {
        "id": "_kqKt3yNf2rq"
      }
    },
    {
      "cell_type": "code",
      "source": [
        "print (len(mylist))"
      ],
      "metadata": {
        "colab": {
          "base_uri": "https://localhost:8080/"
        },
        "id": "pxNFfZg_f2JH",
        "outputId": "ef5ebaef-d26a-4037-f1aa-e66f141d4a24"
      },
      "execution_count": null,
      "outputs": [
        {
          "output_type": "stream",
          "name": "stdout",
          "text": [
            "4\n"
          ]
        }
      ]
    },
    {
      "cell_type": "markdown",
      "source": [
        "###Tuples\n",
        "Tuples are used to store multiple items in a single variable. A tuple is a collection which is ordered and **unchangeable**. Tuples are written with round brackets."
      ],
      "metadata": {
        "id": "YJ7sUPDVcsbs"
      }
    },
    {
      "cell_type": "code",
      "source": [
        "mytuple = (\"Newton\", \"Fermi\", \"Einstein\")\n",
        "print(mytuple, type(mytuple))"
      ],
      "metadata": {
        "colab": {
          "base_uri": "https://localhost:8080/"
        },
        "id": "IQWiLPI7dsxp",
        "outputId": "9b554b5d-bf62-47ad-bf8d-acdffe251a5d"
      },
      "execution_count": null,
      "outputs": [
        {
          "output_type": "stream",
          "name": "stdout",
          "text": [
            "('Newton', 'Fermi', 'Einstein') <class 'tuple'>\n"
          ]
        }
      ]
    },
    {
      "cell_type": "markdown",
      "source": [
        "Strings are simmilar to tuples!"
      ],
      "metadata": {
        "id": "Ul6NEhYQcRmz"
      }
    },
    {
      "cell_type": "code",
      "source": [
        "s = \"Heisenberg\"\n",
        "print (s[7])"
      ],
      "metadata": {
        "colab": {
          "base_uri": "https://localhost:8080/"
        },
        "id": "aweL-Bs8cWaE",
        "outputId": "0400a435-29b8-482b-83e4-07529054b354"
      },
      "execution_count": null,
      "outputs": [
        {
          "output_type": "stream",
          "name": "stdout",
          "text": [
            "e\n"
          ]
        }
      ]
    },
    {
      "cell_type": "markdown",
      "source": [
        "###Conditions and If statements\n",
        "Python supports the usual logical conditions from mathematics:\n",
        "* Equals: a == b\n",
        "* Not Equals: a != b\n",
        "* Less than: a < b\n",
        "* Less than or equal to: a <= b\n",
        "* Greater than: a > b\n",
        "* Greater than or equal to: a >= b\n",
        "\n",
        "These conditions can be used in several ways, most commonly in \"if statements\" and loops. An \"if statement\" is written by using the `if` keyword."
      ],
      "metadata": {
        "id": "j4LRIXkiagY_"
      }
    },
    {
      "cell_type": "code",
      "source": [
        "a = 200\n",
        "b = 33\n",
        "if b > a:\n",
        "  print(\"b is greater than a\")\n",
        "elif a == b:\n",
        "  print(\"a and b are equal\")\n",
        "else:\n",
        "  print(\"a is greater than b\")"
      ],
      "metadata": {
        "colab": {
          "base_uri": "https://localhost:8080/"
        },
        "id": "tJyFk_gka1Ca",
        "outputId": "5be67174-ccac-4063-e11a-c2721e0fc559"
      },
      "execution_count": null,
      "outputs": [
        {
          "output_type": "stream",
          "name": "stdout",
          "text": [
            "a is greater than b\n"
          ]
        }
      ]
    },
    {
      "cell_type": "markdown",
      "source": [
        "###Loops\n",
        "Python has two primitive loop commands:\n",
        "* while loops\n",
        "* for loops\n"
      ],
      "metadata": {
        "id": "xLG_iGISbYgo"
      }
    },
    {
      "cell_type": "markdown",
      "source": [
        "###While Loop\n",
        "With the while loop we can execute a set of statements as long as a condition is true."
      ],
      "metadata": {
        "id": "199bSEMQeLaj"
      }
    },
    {
      "cell_type": "code",
      "source": [
        "i = 1\n",
        "while i < 6:\n",
        "  print(i)\n",
        "  i += 1\n",
        "else:\n",
        "  print(\"i is no longer less than 6\")"
      ],
      "metadata": {
        "colab": {
          "base_uri": "https://localhost:8080/"
        },
        "id": "tIC4P5EObkIo",
        "outputId": "a1c28ac8-463a-4228-fffc-670fc402429a"
      },
      "execution_count": null,
      "outputs": [
        {
          "output_type": "stream",
          "name": "stdout",
          "text": [
            "1\n",
            "2\n",
            "3\n",
            "4\n",
            "5\n",
            "i is no longer less than 6\n"
          ]
        }
      ]
    },
    {
      "cell_type": "markdown",
      "source": [
        "###For Loops\n",
        "\n",
        "A `for` loop is used for iterating over a sequence (that is either a list, a tuple, a dictionary, a set, or a string). This is less like the `for` keyword in other programming languages, and works more like an iterator method as found in other object-orientated programming languages. Instead of interating one `int` variable until predetermined value, we can iterate one variable over a predetermined sequence. With the `for` loop we can execute a set of statements, once for each item in a list, tuple, set etc."
      ],
      "metadata": {
        "id": "IywOfYlTeX5U"
      }
    },
    {
      "cell_type": "code",
      "source": [
        "# How it would work in other programing languages:\n",
        "scientists = [\"Newton\", \"Fermi\", \"Einstein\", \"Heisenberg\", \"Planck\"]\n",
        "for i in range(5):\n",
        "  print(scientists[i])"
      ],
      "metadata": {
        "colab": {
          "base_uri": "https://localhost:8080/"
        },
        "id": "L8eKWKdCetuK",
        "outputId": "24367845-86f5-4268-ecb6-51a801625b8c"
      },
      "execution_count": null,
      "outputs": [
        {
          "output_type": "stream",
          "name": "stdout",
          "text": [
            "Newton\n",
            "Fermi\n",
            "Einstein\n",
            "Heisenberg\n",
            "Planck\n"
          ]
        }
      ]
    },
    {
      "cell_type": "code",
      "source": [
        "# However python supports iterating through sequence itself\n",
        "scientists = [\"Newton\", \"Fermi\", \"Einstein\", \"Heisenberg\", \"Planck\"]\n",
        "for i in scientists:\n",
        "  print(i)"
      ],
      "metadata": {
        "colab": {
          "base_uri": "https://localhost:8080/"
        },
        "id": "ex8_bngufmlh",
        "outputId": "7599e624-2ae4-454a-a91d-ba675d5cd774"
      },
      "execution_count": null,
      "outputs": [
        {
          "output_type": "stream",
          "name": "stdout",
          "text": [
            "Newton\n",
            "Fermi\n",
            "Einstein\n",
            "Heisenberg\n",
            "Planck\n"
          ]
        }
      ]
    },
    {
      "cell_type": "markdown",
      "source": [
        "We can also nest multiple for loops:"
      ],
      "metadata": {
        "id": "7sCuibsZgPWZ"
      }
    },
    {
      "cell_type": "code",
      "source": [
        "adj = [\"beautiful\", \"smart\", \"charming\"]\n",
        "fruits = [\"Newton\", \"Fermi\", \"Einstein\"]\n",
        "\n",
        "for x in adj:\n",
        "  for y in fruits:\n",
        "    print(\"I can see a\", x, y)"
      ],
      "metadata": {
        "colab": {
          "base_uri": "https://localhost:8080/"
        },
        "id": "GKgmgr91fy5r",
        "outputId": "e9942f42-73a1-4ba6-c62f-4b9d0fffd876"
      },
      "execution_count": null,
      "outputs": [
        {
          "output_type": "stream",
          "name": "stdout",
          "text": [
            "I can see a beautiful Newton\n",
            "I can see a beautiful Fermi\n",
            "I can see a beautiful Einstein\n",
            "I can see a smart Newton\n",
            "I can see a smart Fermi\n",
            "I can see a smart Einstein\n",
            "I can see a charming Newton\n",
            "I can see a charming Fermi\n",
            "I can see a charming Einstein\n"
          ]
        }
      ]
    },
    {
      "cell_type": "markdown",
      "source": [
        "##Functions and classes"
      ],
      "metadata": {
        "id": "5O8ZiRogrVpY"
      }
    },
    {
      "cell_type": "markdown",
      "source": [
        "##Functions\n",
        "A function is a block of code that performs a specific task. You can pass data, known as parameters, into a function. A function can return data as a result.\n",
        "\n",
        "Suppose, you need to create a program to create a circle and color it. You can create two functions to solve this problem:\n",
        "* create a circle function\n",
        "* create a color function\n",
        "\n",
        "Dividing a complex problem into smaller chunks makes our program easy to understand. Additionally if you have to create multiple circles with different colors, reusing the same function is a good programming practice.\n",
        "\n",
        "In Python a function is defined using the `def` keyword:"
      ],
      "metadata": {
        "id": "_CxMuvvsr7l-"
      }
    },
    {
      "cell_type": "code",
      "source": [
        "def my_function(p):\n",
        "  print(\"Number is\", p)"
      ],
      "metadata": {
        "id": "_3LbJ41drclA"
      },
      "execution_count": null,
      "outputs": []
    },
    {
      "cell_type": "code",
      "source": [
        "my_function(6)\n",
        "my_function(5)"
      ],
      "metadata": {
        "colab": {
          "base_uri": "https://localhost:8080/"
        },
        "id": "E0hZ4Y0mtSM7",
        "outputId": "4d628470-90ea-4e7b-d933-dc14617b5f3c"
      },
      "execution_count": null,
      "outputs": [
        {
          "output_type": "stream",
          "name": "stdout",
          "text": [
            "Number is 6\n",
            "Number is 5\n"
          ]
        }
      ]
    },
    {
      "cell_type": "code",
      "source": [
        "def my_favourite_scientists(g, b):\n",
        "    print (\"My favourite scientists are:\")\n",
        "    for x in g:\n",
        "        print(x)\n",
        "    print()\n",
        "    print (\"My least favourite scientists are:\")\n",
        "    for y in b:\n",
        "        print(y)"
      ],
      "metadata": {
        "id": "k2d8pNW9tWsZ"
      },
      "execution_count": null,
      "outputs": []
    },
    {
      "cell_type": "code",
      "source": [
        "best_scientists = [\"Newton\", \"Fermi\", \"Einstein\", \"Heisenberg\", \"Planck\"]\n",
        "worst_scientists = [\"Euler\", \"Gauss\", \"Legendre\", \"Riemann\"]\n",
        "my_favourite_scientists(best_scientists, worst_scientists)"
      ],
      "metadata": {
        "colab": {
          "base_uri": "https://localhost:8080/"
        },
        "id": "NS_EE2HjtzMk",
        "outputId": "e33e6398-8879-4939-c907-c6fb1ea702cd"
      },
      "execution_count": null,
      "outputs": [
        {
          "output_type": "stream",
          "name": "stdout",
          "text": [
            "My favourite scientists are:\n",
            "Newton\n",
            "Fermi\n",
            "Einstein\n",
            "Heisenberg\n",
            "Planck\n",
            "\n",
            "My least favourite scientists are:\n",
            "Euler\n",
            "Gauss\n",
            "Legendre\n",
            "Riemann\n"
          ]
        }
      ]
    },
    {
      "cell_type": "markdown",
      "source": [
        "To let a function return a value, use the `return` statement:"
      ],
      "metadata": {
        "id": "OCDRXjjmvk1h"
      }
    },
    {
      "cell_type": "code",
      "source": [
        "def square_function(x):\n",
        "  return x**2"
      ],
      "metadata": {
        "id": "zMTnePrqt5If"
      },
      "execution_count": null,
      "outputs": []
    },
    {
      "cell_type": "code",
      "source": [
        "y = square_function(4)\n",
        "print(y)"
      ],
      "metadata": {
        "colab": {
          "base_uri": "https://localhost:8080/"
        },
        "id": "P6vp9MqWvtXG",
        "outputId": "d86f04c6-bf5b-46ae-e921-a4518f9963b7"
      },
      "execution_count": null,
      "outputs": [
        {
          "output_type": "stream",
          "name": "stdout",
          "text": [
            "16\n"
          ]
        }
      ]
    },
    {
      "cell_type": "markdown",
      "source": [
        "###Classes\n",
        "\n",
        "In its core python is a object-oriented programming through the use of objects and classes.\n",
        "\n",
        "Classes can be seen as a custom type of data, built from a built in data types, to hold the relevant information for certain situations. An object is any entity that has attributes and behaviors. For example, a parrot is an object. It has:\n",
        "* attributes - name, age, color, etc.\n",
        "* behavior - dancing, singing, etc.\n",
        "\n",
        "Similarly, a class is a blueprint for that object."
      ],
      "metadata": {
        "id": "Tvoufq5QwVXc"
      }
    },
    {
      "cell_type": "code",
      "source": [
        "class Parrot:\n",
        "    name = \"\"\n",
        "    age = 0\n",
        "\n",
        "# create parrot1 object\n",
        "parrot1 = Parrot()\n",
        "parrot1.name = \"Blu\"\n",
        "parrot1.age = 10\n",
        "\n",
        "# create another object parrot2\n",
        "parrot2 = Parrot()\n",
        "parrot2.name = \"Woo\"\n",
        "parrot2.age = 15\n",
        "\n",
        "# access attributes\n",
        "print(f\"{parrot1.name} is {parrot1.age} years old\")\n",
        "print(f\"{parrot2.name} is {parrot2.age} years old\")"
      ],
      "metadata": {
        "colab": {
          "base_uri": "https://localhost:8080/"
        },
        "id": "5xJoyLWCw76Z",
        "outputId": "99a8ab26-7c75-40f2-c6d7-cd84ee3a9bbd"
      },
      "execution_count": null,
      "outputs": [
        {
          "output_type": "stream",
          "name": "stdout",
          "text": [
            "Blu is 10 years old\n",
            "Woo is 15 years old\n"
          ]
        }
      ]
    },
    {
      "cell_type": "markdown",
      "source": [
        "Class can not only hold attributes for the objects but also a methods (functions) that the objects can perform. The `self` parameter is a reference to the current instance of the class, and is used to access variables that belongs to the class."
      ],
      "metadata": {
        "id": "sn5VIC6Xxexo"
      }
    },
    {
      "cell_type": "code",
      "source": [
        "class Parrot:\n",
        "    def __init__(self, name, age):\n",
        "        self.name = name\n",
        "        self.age = age\n",
        "\n",
        "    def sing (self, n_times):\n",
        "        for i in range(n_times):\n",
        "            print (\"WOOO! WOOO! I'm a little parrot called\", self.name)\n",
        "\n",
        "    def fly (self):\n",
        "        if (self.age > 10) and (self.age < 90):\n",
        "            print (\"FLAP FLAP FLAP\")\n",
        "        else:\n",
        "            print (\"Parrot\", self.name, \"is not able to fly!\")\n",
        "\n",
        "\n",
        "\n",
        "parrot1 = Parrot(\"Blu\", 35)\n",
        "parrot2 = Parrot(\"Ara\", 5)\n",
        "\n",
        "parrot1.sing(2)\n",
        "parrot1.fly()\n",
        "parrot2.fly()"
      ],
      "metadata": {
        "colab": {
          "base_uri": "https://localhost:8080/"
        },
        "id": "cNbAz3QXxecT",
        "outputId": "b405359c-61be-4398-e8af-36ee15803b1d"
      },
      "execution_count": null,
      "outputs": [
        {
          "output_type": "stream",
          "name": "stdout",
          "text": [
            "WOOO! WOOO! I'm a little parrot called Blu\n",
            "WOOO! WOOO! I'm a little parrot called Blu\n",
            "FLAP FLAP FLAP\n",
            "Parrot Ara is not able to fly!\n"
          ]
        }
      ]
    },
    {
      "cell_type": "markdown",
      "source": [
        "##Libraries\n",
        "Main advantage of Python is in its vast number of libraries. Libraries that we will be using are `numpy`, `pandas`, `pyplot` and `tensorflow`."
      ],
      "metadata": {
        "id": "q8n0lZF30Y-p"
      }
    },
    {
      "cell_type": "markdown",
      "source": [
        "###Numpy\n",
        "NumPy is a Python library used for working with arrays. It also has functions for working in domain of linear algebra, fourier transform, and matrices.\n",
        "\n",
        "In Python we have lists that serve the purpose of arrays, but they are slow to process. NumPy aims to provide an array object that is up to 50x faster than traditional Python lists. The array object in NumPy is called `ndarray`, it provides a lot of supporting functions that make working with ndarray very easy.Arrays are very frequently used in data science, where speed and resources are very important. In machine learning `ndarray` are also called vectors, therefore the fast linear algebra that NumPy provides is useful in data manipulation."
      ],
      "metadata": {
        "id": "GiB0eM8s1Umo"
      }
    },
    {
      "cell_type": "markdown",
      "source": [
        "Importing any library is done through `import` statement. Additionaly we can add shorthand reference to that library using `as` statement"
      ],
      "metadata": {
        "id": "FZRrRCMz2Crp"
      }
    },
    {
      "cell_type": "code",
      "source": [
        "import numpy as np"
      ],
      "metadata": {
        "id": "En-Pvwpf0eo0"
      },
      "execution_count": null,
      "outputs": []
    },
    {
      "cell_type": "code",
      "source": [
        "arr = np.array([1, 2, 3, 4, 5])\n",
        "\n",
        "print(arr)"
      ],
      "metadata": {
        "colab": {
          "base_uri": "https://localhost:8080/"
        },
        "id": "hx-NrRKl2ZsS",
        "outputId": "adbd7b7d-c6ae-4202-c3f6-a72ff3d8f136"
      },
      "execution_count": null,
      "outputs": [
        {
          "output_type": "stream",
          "name": "stdout",
          "text": [
            "[1 2 3 4 5]\n"
          ]
        }
      ]
    },
    {
      "cell_type": "code",
      "source": [
        "arr2D = np.array([[1, 2, 3], [4, 5, 6]])\n",
        "print(arr2D)"
      ],
      "metadata": {
        "colab": {
          "base_uri": "https://localhost:8080/"
        },
        "id": "ADKOmm3X2ebp",
        "outputId": "f6b10519-c401-4617-b998-97d31a5728c0"
      },
      "execution_count": null,
      "outputs": [
        {
          "output_type": "stream",
          "name": "stdout",
          "text": [
            "[[1 2 3]\n",
            " [4 5 6]]\n"
          ]
        }
      ]
    },
    {
      "cell_type": "code",
      "source": [
        "print (arr2D.shape)"
      ],
      "metadata": {
        "colab": {
          "base_uri": "https://localhost:8080/"
        },
        "id": "7srAEP5D2rtm",
        "outputId": "6edab54d-217b-4240-a607-02f9778180e6"
      },
      "execution_count": null,
      "outputs": [
        {
          "output_type": "stream",
          "name": "stdout",
          "text": [
            "(2, 3)\n"
          ]
        }
      ]
    },
    {
      "cell_type": "markdown",
      "source": [
        "Some useful examples:"
      ],
      "metadata": {
        "id": "bHKe_ESD3xup"
      }
    },
    {
      "cell_type": "code",
      "source": [
        "a = np.array([[1, 0], [0, 1]])\n",
        "b = np.array([[4, 1], [2, 2]])\n",
        "c = np.dot(a, b)\n",
        "print (c)\n",
        "print (c.sum())\n",
        "print (c.mean())\n",
        "print (c.std())\n",
        "print (a+b)"
      ],
      "metadata": {
        "colab": {
          "base_uri": "https://localhost:8080/"
        },
        "id": "ouh6sEsd3xSQ",
        "outputId": "42aee5cb-304d-40cd-a0be-e8f63cb2cd53"
      },
      "execution_count": null,
      "outputs": [
        {
          "output_type": "stream",
          "name": "stdout",
          "text": [
            "[[4 1]\n",
            " [2 2]]\n",
            "9\n",
            "2.25\n",
            "1.0897247358851685\n",
            "[[5 1]\n",
            " [2 3]]\n"
          ]
        }
      ]
    },
    {
      "cell_type": "markdown",
      "source": [
        "Instead of learning every numpy command, its easier to start doing some examples, and to learn commands as you need them.\n",
        "\n",
        "NumPy documentation: https://numpy.org/doc/stable/reference/index.html\n",
        "\n",
        "Additional resources for NumPy: https://numpy.org/doc/stable/user/absolute_beginners.html"
      ],
      "metadata": {
        "id": "QDn2slGy2_o6"
      }
    },
    {
      "cell_type": "markdown",
      "source": [
        "###Pandas\n",
        "Pandas is a Python library used for working with data sets. It has functions for analyzing, cleaning, exploring, and manipulating data. Pandas allows us to analyze big data and make conclusions based on statistical theories. Pandas can clean messy data sets, and make them readable and relevant. Relevant data is very important in data science."
      ],
      "metadata": {
        "id": "eqaH_nWl5uU0"
      }
    },
    {
      "cell_type": "code",
      "source": [
        "import pandas as pd"
      ],
      "metadata": {
        "id": "QYsnGjQ_2wlF"
      },
      "execution_count": null,
      "outputs": []
    },
    {
      "cell_type": "code",
      "source": [
        "mydataset = {\n",
        "  'cars': [\"BMW\", \"Volvo\", \"Ford\"],\n",
        "  'passings': [3, 7, 2]\n",
        "}\n",
        "myvar = pd.DataFrame(mydataset)\n",
        "print(myvar)"
      ],
      "metadata": {
        "colab": {
          "base_uri": "https://localhost:8080/"
        },
        "id": "kgcQP-bA6hTn",
        "outputId": "56e4d6c2-a22d-4ca1-8535-bd7a90606eae"
      },
      "execution_count": null,
      "outputs": [
        {
          "output_type": "stream",
          "name": "stdout",
          "text": [
            "    cars  passings\n",
            "0    BMW         3\n",
            "1  Volvo         7\n",
            "2   Ford         2\n"
          ]
        }
      ]
    },
    {
      "cell_type": "code",
      "source": [
        "data = {\n",
        "  \"calories\": [420, 380, 390],\n",
        "  \"duration\": [50, 40, 45]\n",
        "}\n",
        "\n",
        "#load data into a DataFrame object:\n",
        "df = pd.DataFrame(data)\n",
        "\n",
        "print(df)"
      ],
      "metadata": {
        "colab": {
          "base_uri": "https://localhost:8080/"
        },
        "id": "MmWbNDXm6pK0",
        "outputId": "f5a0a5e4-f4ea-4929-c3a9-0775b84fa9cd"
      },
      "execution_count": null,
      "outputs": [
        {
          "output_type": "stream",
          "name": "stdout",
          "text": [
            "   calories  duration\n",
            "0       420        50\n",
            "1       380        40\n",
            "2       390        45\n"
          ]
        }
      ]
    },
    {
      "cell_type": "markdown",
      "source": [],
      "metadata": {
        "id": "Q-nG2kjr7fnD"
      }
    },
    {
      "cell_type": "code",
      "source": [
        "import matplotlib.pyplot as plt\n",
        "import numpy as np"
      ],
      "metadata": {
        "id": "H-WH9ev977Uy"
      },
      "execution_count": null,
      "outputs": []
    },
    {
      "cell_type": "code",
      "source": [
        "fig, ax = plt.subplots()  # Create a figure containing a single axes.\n",
        "ax.plot([1, 2, 3, 4], [1, 4, 2, 3])  # Plot some data on the axes."
      ],
      "metadata": {
        "colab": {
          "base_uri": "https://localhost:8080/",
          "height": 447
        },
        "id": "svp0N6x97-AF",
        "outputId": "8a6646d9-5831-460a-d242-6a4963b1cb23"
      },
      "execution_count": null,
      "outputs": [
        {
          "output_type": "execute_result",
          "data": {
            "text/plain": [
              "[<matplotlib.lines.Line2D at 0x7f8a54047bb0>]"
            ]
          },
          "metadata": {},
          "execution_count": 162
        },
        {
          "output_type": "display_data",
          "data": {
            "text/plain": [
              "<Figure size 640x480 with 1 Axes>"
            ],
            "image/png": "[encoded data removed]"
          },
          "metadata": {}
        }
      ]
    },
    {
      "cell_type": "code",
      "source": [
        "fig, ax = plt.subplots()  # Create a figure containing a single axes.\n",
        "ax.scatter([1, 1.5, 2, 2.5, 3, 3.5, 4, 4.5], [1, 3, 4, 2, 3, 4, 3, 1])  # Plot some data on the axes."
      ],
      "metadata": {
        "colab": {
          "base_uri": "https://localhost:8080/",
          "height": 447
        },
        "id": "1BZuI7cG8ICT",
        "outputId": "4c191d2b-5107-4619-b1fc-f8695c62d5c0"
      },
      "execution_count": null,
      "outputs": [
        {
          "output_type": "execute_result",
          "data": {
            "text/plain": [
              "<matplotlib.collections.PathCollection at 0x7f8a540392d0>"
            ]
          },
          "metadata": {},
          "execution_count": 163
        },
        {
          "output_type": "display_data",
          "data": {
            "text/plain": [
              "<Figure size 640x480 with 1 Axes>"
            ],
            "image/png": "[encoded data removed]"
          },
          "metadata": {}
        }
      ]
    },
    {
      "cell_type": "code",
      "source": [
        "import numpy as np\n",
        "import matplotlib.pyplot as plt\n",
        "\n",
        "x = np.linspace(1, 10, 1000)\n",
        "y = np.random.random (1000)\n",
        "fig, ax = plt.subplots()\n",
        "ax.scatter(x, y)"
      ],
      "metadata": {
        "colab": {
          "base_uri": "https://localhost:8080/",
          "height": 447
        },
        "id": "4Hw1T7818QAY",
        "outputId": "5ab7dc78-5208-47fb-bafb-2f0363f7189b"
      },
      "execution_count": null,
      "outputs": [
        {
          "output_type": "execute_result",
          "data": {
            "text/plain": [
              "<matplotlib.collections.PathCollection at 0x7f8a53c23b80>"
            ]
          },
          "metadata": {},
          "execution_count": 164
        },
        {
          "output_type": "display_data",
          "data": {
            "text/plain": [
              "<Figure size 640x480 with 1 Axes>"
            ],
            "image/png": "[encoded data removed]"
          },
          "metadata": {}
        }
      ]
    },
    {
      "cell_type": "code",
      "source": [
        "x = np.linspace(1, 10, 10000)\n",
        "y = np.sin(x) + np.random.normal(0, 1, x.shape[0])\n",
        "fig, ax = plt.subplots()\n",
        "ax.scatter(x, y, s=0.1)\n",
        "ax.plot(x, np.sin(x), color=\"red\")"
      ],
      "metadata": {
        "colab": {
          "base_uri": "https://localhost:8080/",
          "height": 447
        },
        "id": "MwsvZLvg9mnf",
        "outputId": "d7e19fd0-b0d3-49c0-c971-cb4fd8a8a82a"
      },
      "execution_count": null,
      "outputs": [
        {
          "output_type": "execute_result",
          "data": {
            "text/plain": [
              "[<matplotlib.lines.Line2D at 0x7f8a53cdc2e0>]"
            ]
          },
          "metadata": {},
          "execution_count": 165
        },
        {
          "output_type": "display_data",
          "data": {
            "text/plain": [
              "<Figure size 640x480 with 1 Axes>"
            ],
            "image/png": "[encoded data removed]"
          },
          "metadata": {}
        }
      ]
    },
    {
      "cell_type": "markdown",
      "source": [
        "#Problem #1\n",
        "\n",
        "Write a Python program that simulates a random walk in two dimensions. In this model, m particles move randomly from one location to another using n steps in any of the eight main directions (N, NW, W, SW, S, SE, E, NE). For each of the n steps and for each of the m particles, the program should choose a random direction, track the particle's position (x, y), and record the final position after all steps. Calculate the average distance of each particle from the initial position after n steps. The number of steps, n, should vary from 10 to a number k entered by the user, and plot a graph showing the dependence of the average distance of all particles from the initial position on k with labeled axes."
      ],
      "metadata": {
        "id": "gfUizl48G6su"
      }
    },
    {
      "cell_type": "code",
      "source": [
        "#@title My solution\n",
        "# Add code here"
      ],
      "metadata": {
        "id": "prL59tpkHmaG"
      },
      "execution_count": null,
      "outputs": []
    },
    {
      "cell_type": "code",
      "source": [
        "#@title Solution\n",
        "def simulate_random_walk(num_steps, m):\n",
        "    # Generate random steps for all walkers at once\n",
        "    steps = np.random.choice([-1, 1, 0, 0], size=(m, num_steps, 2))\n",
        "    # Calculate cumulative sum along the steps axis to get walker positions\n",
        "    positions = np.cumsum(steps, axis=1)\n",
        "    # Calculate distance from end position of each particle\n",
        "    distance = np.sqrt(positions [:, -1, 0]**2+positions [:, -1, 1]**2)\n",
        "    return distance\n",
        "\n",
        "fig, ax = plt.subplots()\n",
        "x = np.arange(10, 200)\n",
        "y = []\n",
        "for i in x:\n",
        "    y.append(simulate_random_walk(i, 1000).mean())\n",
        "\n",
        "y = np.array(y)\n",
        "ax.scatter(x, y)\n",
        "ax.set_xlabel(\"Number of steps\")\n",
        "ax.set_ylabel(\"Distance covered\")\n",
        "print()"
      ],
      "metadata": {
        "colab": {
          "base_uri": "https://localhost:8080/",
          "height": 466
        },
        "cellView": "form",
        "id": "uh06s6eK-Iht",
        "outputId": "0237f345-f99a-4bce-ef94-2aac53110fbc"
      },
      "execution_count": null,
      "outputs": [
        {
          "output_type": "stream",
          "name": "stdout",
          "text": [
            "\n"
          ]
        },
        {
          "output_type": "display_data",
          "data": {
            "text/plain": [
              "<Figure size 640x480 with 1 Axes>"
            ],
            "image/png": "[encoded data removed]"
          },
          "metadata": {}
        }
      ]
    }
  ]
}