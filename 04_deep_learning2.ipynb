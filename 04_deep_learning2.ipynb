{
  "nbformat": 4,
  "nbformat_minor": 0,
  "metadata": {
    "colab": {
      "provenance": [],
      "authorship_tag": "ABX9TyM0ZEZ0PjJfNuA5zL3sDkB4",
      "include_colab_link": true
    },
    "kernelspec": {
      "name": "python3",
      "display_name": "Python 3"
    },
    "language_info": {
      "name": "python"
    }
  },
  "cells": [
    {
      "cell_type": "markdown",
      "metadata": {
        "id": "view-in-github",
        "colab_type": "text"
      },
      "source": [
        "<a href=\"https://colab.research.google.com/github/kmrakovcic/FoP_ML_workshop23/blob/master/04_deep_learning2.ipynb\" target=\"_parent\"><img src=\"https://colab.research.google.com/assets/colab-badge.svg\" alt=\"Open In Colab\"/></a>"
      ]
    },
    {
      "cell_type": "markdown",
      "source": [
        "#How to make machines learn?\n",
        "In last chapter we talked about creating the structure that could predict the data, however we skipped the part about making the neural networks learn from its own mistakes. This part is essential in machine learning, and it makes neural networks powerful."
      ],
      "metadata": {
        "id": "Mk_RhvaOcZ2L"
      }
    },
    {
      "cell_type": "markdown",
      "source": [
        "##Basically just the optimization problem\n",
        "Leaving all the intuition aside, only strictly looking, neural networks is just a function with a lot of parameters. Learning is just optimizing the parameters to the data. Only issue is how to create optimization algorithm that is robust enough to work in the parameter space that has order of magnitude million dimensions? Currently the most used algorithm is called **\"Gradient descent\"** and it's application in the neural networks which we call **\"Backpropagation\"**.\n",
        "\n",
        "##Lectures\n",
        "\n",
        "\n",
        "1.  Gradient Descent: [video](https://www.youtube.com/watch?v=IHZwWFHWa-w), [text](https://www.3blue1brown.com/lessons/gradient-descent)\n",
        "2.  Backpropagation: [video](https://www.youtube.com/watch?v=Ilg3gGewQ5U), [text](https://www.3blue1brown.com/lessons/backpropagation)\n",
        "3.  Calculating Backpropagation: [video](https://www.youtube.com/watch?v=tIeHLnjs5U8), [text](https://www.3blue1brown.com/lessons/backpropagation-calculus)"
      ],
      "metadata": {
        "id": "gYx-GwozhALd"
      }
    }
  ]
}