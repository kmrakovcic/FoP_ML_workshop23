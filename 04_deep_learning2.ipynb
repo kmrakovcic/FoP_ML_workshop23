{
  "nbformat": 4,
  "nbformat_minor": 0,
  "metadata": {
    "colab": {
      "provenance": [],
      "authorship_tag": "ABX9TyPBjSYkthdhkLLarcgZFWP4",
      "include_colab_link": true
    },
    "kernelspec": {
      "name": "python3",
      "display_name": "Python 3"
    },
    "language_info": {
      "name": "python"
    }
  },
  "cells": [
    {
      "cell_type": "markdown",
      "metadata": {
        "id": "view-in-github",
        "colab_type": "text"
      },
      "source": [
        "<a href=\"https://colab.research.google.com/github/kmrakovcic/FoP_ML_workshop23/blob/master/04_deep_learning2.ipynb\" target=\"_parent\"><img src=\"https://colab.research.google.com/assets/colab-badge.svg\" alt=\"Open In Colab\"/></a>"
      ]
    },
    {
      "cell_type": "markdown",
      "source": [
        "#How to make machines learn?\n",
        "In last chapter we talked about creating the structure that could predict the data, however we skipped the part about making the neural networks learn from its own mistakes. This part is essential in machine learning, and it makes neural networks powerful."
      ],
      "metadata": {
        "id": "Mk_RhvaOcZ2L"
      }
    },
    {
      "cell_type": "markdown",
      "source": [
        "## Just the optimization problem\n",
        "Leaving all the intuition aside, only strictly looking, neural networks are just a function with a lot of parameters. Learning is just optimizing the parameters of the NN to the data. The only issue is how to create an optimization algorithm that is robust enough to work in the parameter space that has an order of magnitude million dimensions. Currently, the most used algorithm is called **\"Gradient descent\"** and its application in the neural networks which we call **\"Backpropagation\"**.\n",
        "\n",
        "##Lectures\n",
        "\n",
        "\n",
        "1.  Gradient Descent: [video](https://www.youtube.com/watch?v=IHZwWFHWa-w), [text](https://www.3blue1brown.com/lessons/gradient-descent)\n",
        "2.  Backpropagation: [video](https://www.youtube.com/watch?v=Ilg3gGewQ5U), [text](https://www.3blue1brown.com/lessons/backpropagation)\n",
        "3.  Calculating Backpropagation: [video](https://www.youtube.com/watch?v=tIeHLnjs5U8), [text](https://www.3blue1brown.com/lessons/backpropagation-calculus)"
      ],
      "metadata": {
        "id": "gYx-GwozhALd"
      }
    },
    {
      "cell_type": "markdown",
      "source": [
        "## Conclusion\n",
        "To train the neural network following steps must be applied:\n",
        "\n",
        "\n",
        "1.   **Forward propagation**: Calculate the activations of all of the neurons from the beginning to the end\n",
        "2.   **Backpropagation**: Calculate the gradients from the end to the beginning\n",
        "3.   **Evolution**: Calculate new weights and biases using old weights and biases and calculated gradients"
      ],
      "metadata": {
        "id": "r6pmDFI5cqFH"
      }
    },
    {
      "cell_type": "markdown",
      "source": [
        "#Problem 1\n",
        "Train the [neural network](https://colab.research.google.com/github/kmrakovcic/FoP_ML_workshop23/blob/master/03_deep_learning1.ipynb#scrollTo=owrsJoVCI7PD) to predict square function for 1000 epochs. Use 1 neuron in input layer, and one neuron on the output layer.\n",
        "\n",
        "Use the following pseudocode for training on the one epoch:\n",
        "\n",
        "1. **Forward propagation**\n",
        "*  $a^0 = X$\n",
        "*  $z^1 = W^{(0,1)} \\cdot a^0 + b^0$\n",
        "*  $a^1 = \\sigma(z^1)$\n",
        "*  $z^2 = W^{(1,2)} \\cdot a^1 + b^1$\n",
        "*  $a^2 = \\sigma(z^2)$\n",
        "*  $z^3 = W^{(2,3)} \\cdot a^2 + b^2$\n",
        "*  $a^3 = \\sigma(z^3)$\n",
        "\n",
        "2. **Backpropagation**\n",
        "*  $\\Delta^2 = a^3 - Y$\n",
        "*  $\\Delta^1 = \\left( \\Delta^2 \\cdot W^{(2,3)} \\right) \\cdot \\sigma'(z^2)$\n",
        "*  $\\Delta^0 = \\left( \\Delta^1 \\cdot W^{(1,2)} \\right) \\cdot \\sigma'(z^1)$\n",
        "\n",
        "3. **Evolution**\n",
        "*  $W^{(0,1)} = W^{(0,1)} - \\alpha \\left((a^0)^T \\cdot \\Delta^0 \\right)$\n",
        "*  $b^0 = b^0 - \\alpha \\sum_{dim=1} \\Delta^0$\n",
        "*  $W^{(1,2)} = W^{(1,2)} - \\alpha \\left((a^1)^T \\cdot \\Delta^1 \\right)$\n",
        "*  $b^1 = b^1 - \\alpha \\sum_{dim=1} \\Delta^1$\n",
        "*  $W^{(2,3)} = W^{(1,2)} - \\alpha \\left((a^2)^T \\cdot \\Delta^2 \\right)$\n",
        "*  $b^2 = b^2 - \\alpha \\sum_{dim=1} \\Delta^2$\n",
        "\n",
        "If activation function is sigmoid:\n",
        "$$ \\sigma(x) = \\frac{1}{1+e^{-x}}$$\n",
        "then derivation is:\n",
        "$$ \\sigma'(x) = \\sigma(x) (1- \\sigma(x))$$"
      ],
      "metadata": {
        "id": "TzyaIGS74Hr5"
      }
    },
    {
      "cell_type": "code",
      "source": [
        "#@title My solution\n",
        "# Add code here"
      ],
      "metadata": {
        "id": "DCjTFCiONSj2"
      },
      "execution_count": null,
      "outputs": []
    },
    {
      "cell_type": "code",
      "source": [
        "#@title Solution\n",
        "import numpy as np\n",
        "import matplotlib.pyplot as plt\n",
        "\n",
        "# create training data\n",
        "x = np.random.rand(1000, 1)\n",
        "y = np.square(x)\n",
        "\n",
        "def sigmoid(z):\n",
        "    # create sigmoid function to be activation function for layers\n",
        "    return 1 / (1 + np.exp(-z))\n",
        "\n",
        "# creating random weights\n",
        "w0 = np.random.rand(1, 16)*2-1\n",
        "w1 = np.random.rand(16, 16)*2-1\n",
        "w2 = np.random.rand(16, 1)*2-1\n",
        "\n",
        "# creating random biases\n",
        "b0 = np.random.rand(16)*2-1\n",
        "b1 = np.random.rand(16)*2-1\n",
        "b2 = np.random.rand(1)*2-1\n",
        "\n",
        "for epoch in range(1000):\n",
        "    # forward propagation\n",
        "    a0 = x\n",
        "    z1 = np.dot(a0, w0) + b0\n",
        "    a1 = sigmoid(z1)\n",
        "    z2 = np.dot(a1, w1) + b1\n",
        "    a2 = sigmoid(z2)\n",
        "\n",
        "    z3 = np.dot(a2, w2) + b2\n",
        "    a3 = sigmoid(z3)\n",
        "\n",
        "    # backpropagation\n",
        "    delta2 = a3 - y\n",
        "    delta1 = np.dot(delta2, w2.T) * sigmoid(z2) * (1 - sigmoid(z2))\n",
        "    delta0 = np.dot(delta1, w1.T) * sigmoid(z1) * (1 - sigmoid(z1))\n",
        "\n",
        "    alpha = 0.001\n",
        "    # weight and bias updates\n",
        "    w0 = w0 - alpha * np.dot(a0.T, delta0)\n",
        "    b0 = b0 - alpha * np.mean(delta0, axis=0).reshape(-1,)\n",
        "\n",
        "    w1 = w1 - alpha * np.dot(a1.T, delta1)\n",
        "    b1 = b1 - alpha * np.mean(delta1, axis=0).reshape(-1,)\n",
        "\n",
        "    w2 = w2 - alpha * np.dot(a2.T, delta2)\n",
        "    b2 = b2 - alpha * np.mean(delta2, axis=0).reshape(-1,)\n",
        "\n",
        "print(\"epoch\", epoch+1, \"MSE:\", np.sum((y - a3) ** 2))\n",
        "fig, ax = plt.subplots()\n",
        "ax.scatter (y, a3)\n",
        "ax.set_xlim(0,1)\n",
        "ax.set_ylim(0,1)\n",
        "ax.set_title(\"Correlation\")\n",
        "ax.set_xlabel(\"True\")\n",
        "ax.set_ylabel(\"Predicted\")"
      ],
      "metadata": {
        "cellView": "form",
        "id": "ocmh3tvUKRwP",
        "outputId": "f5132bf6-03dd-4f32-998d-1bfcfd729bc8",
        "colab": {
          "base_uri": "https://localhost:8080/",
          "height": 507
        }
      },
      "execution_count": 70,
      "outputs": [
        {
          "output_type": "stream",
          "name": "stdout",
          "text": [
            "epoch 1000 MSE: 1.0773328484707057\n"
          ]
        },
        {
          "output_type": "execute_result",
          "data": {
            "text/plain": [
              "Text(0, 0.5, 'Predicted')"
            ]
          },
          "metadata": {},
          "execution_count": 70
        },
        {
          "output_type": "display_data",
          "data": {
            "text/plain": [
              "<Figure size 640x480 with 1 Axes>"
            ],
            "image/png": "[encoded data removed]"
          },
          "metadata": {}
        }
      ]
    },
    {
      "cell_type": "markdown",
      "source": [
        "#Problem 2\n",
        "Expand the code created [before](https://colab.research.google.com/github/kmrakovcic/FoP_ML_workshop23/blob/master/03_deep_learning1.ipynb#scrollTo=XUTIbkmsYk8l) using classes and make neural network learn the first 1000 train examples of the MNIST dataset. Calculate the accuracy on the test set."
      ],
      "metadata": {
        "id": "EuyBculzMmaR"
      }
    },
    {
      "cell_type": "code",
      "source": [
        "#@title My solution\n",
        "# Add code here"
      ],
      "metadata": {
        "id": "f3wAcyM-UXJ9"
      },
      "execution_count": 84,
      "outputs": []
    },
    {
      "cell_type": "code",
      "source": [
        "#@title Solution\n",
        "import numpy as np\n",
        "import pandas as pd\n",
        "import matplotlib.pyplot as plt\n",
        "\n",
        "\n",
        "def one_hot_encode(label):\n",
        "    # one hot encoding so we can compare output layer and labels\n",
        "    num_classes = 10\n",
        "    one_hot = np.zeros((num_classes, label.shape[0]))\n",
        "    # create\n",
        "    one_hot [label, range(label.shape[0])] = 1\n",
        "    return one_hot.T\n",
        "\n",
        "\n",
        "class NeuralNetwork:\n",
        "\n",
        "    def __init__(self, layer_sizes):\n",
        "        #defining sizes of the weights and biases for each layer\n",
        "        self.layer_sizes = layer_sizes\n",
        "        self.weights = [np.random.rand(x, y)*2-1 for x, y in zip(layer_sizes[:-1], layer_sizes[1:])]\n",
        "        self.biases = [np.random.rand(x)*2-1 for x in layer_sizes[1:]]\n",
        "\n",
        "    def sigmoid(self, z):\n",
        "        return 1 / (1 + np.exp(-z))\n",
        "\n",
        "    def feedforward(self, a):\n",
        "        #forward propagation to get activations on the neurons on the output layer\n",
        "        for i in range(len(self.layer_sizes)-1):\n",
        "            a = self.sigmoid(np.dot(a, self.weights[i]) + self.biases[i])\n",
        "        return a\n",
        "\n",
        "    def backpropagate (self, x, t, learning_rate):\n",
        "        a = x\n",
        "        activations = [a]\n",
        "        zs = [0]\n",
        "\t\t# feedforward\n",
        "        for i in range(len(self.layer_sizes)-1):\n",
        "            z = np.dot(a, self.weights[i]) + self.biases[i]\n",
        "            zs.append(z)\n",
        "            a = self.sigmoid(z)\n",
        "            activations.append(a)\n",
        "\n",
        "        # backward pass\n",
        "        delta = (activations[-1] - t)\n",
        "        gradients = []\n",
        "        gradients.append(delta)\n",
        "        for i in reversed(range(len(self.layer_sizes)-2)):\n",
        "            delta = np.dot(delta, self.weights[i+1].T) * self.sigmoid(zs[i+1]) * (1 - self.sigmoid(zs[i+1]))\n",
        "            gradients.append(delta)\n",
        "        gradients.reverse()\n",
        "\n",
        "        # update weights and biases\n",
        "        for i in range(len(self.weights)):\n",
        "            self.weights[i] -= learning_rate * np.dot(activations[i].T, gradients[i])\n",
        "            self.biases[i] -= learning_rate * np.mean(gradients[i], axis=0).reshape(-1,)\n",
        "\n",
        "    def train(self, x, y, learning_rate, epochs, verbose=True):\n",
        "        for i in range(epochs):\n",
        "            self.backpropagate(x, y, learning_rate)\n",
        "            if verbose:\n",
        "                p = self.feedforward(x)\n",
        "                error = np.mean(np.square(p-y))\n",
        "                true_numbers = np.argmax(y, axis=-1)\n",
        "                prediction_numbers = np.argmax(p, axis=-1)\n",
        "                accuracy = (true_numbers == prediction_numbers).sum()/true_numbers.shape[0]\n",
        "                print (\"\\rEPOCH\", i, \"Error:\", error, \"Accuracy:\", accuracy, end=\"\")\n",
        "\n",
        "    def predict(self, x):\n",
        "        p = self.feedforward(x)\n",
        "        prediction_numbers = np.argmax(p, axis=-1)\n",
        "        return prediction_numbers\n",
        "\n",
        "# MAIN PART\n",
        "\n",
        "# Read comma separated files that contain train and test set from disk to pandas dataframe\n",
        "mnist_train_df = pd.read_csv(\"/content/sample_data/mnist_train_small.csv\", header=None)\n",
        "mnist_test_df = pd.read_csv(\"/content/sample_data/mnist_test.csv\", header=None)\n",
        "\n",
        "# Convert pandas dataframe to numpy array, and separate pixel values from labels\n",
        "mnist_train_x = mnist_train_df.to_numpy()[:, 1:]\n",
        "mnist_train_y = mnist_train_df.to_numpy()[:, 0]\n",
        "\n",
        "mnist_test_x = mnist_test_df.to_numpy()[:, 1:]\n",
        "mnist_test_y = mnist_test_df.to_numpy()[:, 0]\n",
        "\n",
        "mnist_train_y = one_hot_encode(mnist_train_y)\n",
        "mnist_test_y = one_hot_encode(mnist_test_y)\n",
        "\n",
        "network = NeuralNetwork ([mnist_train_x.shape[1],16,16,10])\n",
        "network.train (mnist_train_x, mnist_train_y, 0.0001, 200, verbose=True)\n",
        "\n",
        "p_labels = network.predict(mnist_test_x)\n",
        "y_labels = np.argmax(mnist_test_y, axis=-1)\n",
        "accuracy = (y_labels == p_labels).sum()/y_labels.shape[0]\n",
        "print ()\n",
        "print (\"Test accuracy:\", accuracy)"
      ],
      "metadata": {
        "cellView": "form",
        "id": "tgDQFC2kE1Yn",
        "outputId": "97ce68eb-3ee7-4ae6-f3e4-e0cba24ef28b",
        "colab": {
          "base_uri": "https://localhost:8080/"
        }
      },
      "execution_count": 83,
      "outputs": [
        {
          "output_type": "stream",
          "name": "stderr",
          "text": [
            "<ipython-input-83-011b1d242eb9>:24: RuntimeWarning: overflow encountered in exp\n",
            "  return 1 / (1 + np.exp(-z))\n"
          ]
        },
        {
          "output_type": "stream",
          "name": "stdout",
          "text": [
            "EPOCH 199 Error: 0.027747470270944104 Accuracy: 0.82945\n",
            "Test accuracy: 0.8207\n"
          ]
        }
      ]
    }
  ]
}